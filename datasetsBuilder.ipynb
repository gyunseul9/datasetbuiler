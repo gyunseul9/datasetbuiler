{
  "nbformat": 4,
  "nbformat_minor": 0,
  "metadata": {
    "accelerator": "TPU",
    "colab": {
      "name": "datasetsBuilder.ipynb",
      "provenance": [],
      "collapsed_sections": [],
      "toc_visible": true
    },
    "kernelspec": {
      "display_name": "Python 3",
      "name": "python3"
    },
    "widgets": {
      "application/vnd.jupyter.widget-state+json": {
        "7a02c63932cf42dca6b754614a20021c": {
          "model_module": "@jupyter-widgets/controls",
          "model_name": "VBoxModel",
          "model_module_version": "1.5.0",
          "state": {
            "_dom_classes": [],
            "_model_module": "@jupyter-widgets/controls",
            "_model_module_version": "1.5.0",
            "_model_name": "VBoxModel",
            "_view_count": null,
            "_view_module": "@jupyter-widgets/controls",
            "_view_module_version": "1.5.0",
            "_view_name": "VBoxView",
            "box_style": "",
            "children": [
              "IPY_MODEL_f9e46547c41f42e1ac6c099b156c9a65",
              "IPY_MODEL_80bfab7f5bf6498e8877c6989d8b7048"
            ],
            "layout": "IPY_MODEL_48ffdefeddc3442bb3df9e116bb443e6"
          }
        },
        "f9e46547c41f42e1ac6c099b156c9a65": {
          "model_module": "@jupyter-widgets/controls",
          "model_name": "HTMLModel",
          "model_module_version": "1.5.0",
          "state": {
            "_dom_classes": [],
            "_model_module": "@jupyter-widgets/controls",
            "_model_module_version": "1.5.0",
            "_model_name": "HTMLModel",
            "_view_count": null,
            "_view_module": "@jupyter-widgets/controls",
            "_view_module_version": "1.5.0",
            "_view_name": "HTMLView",
            "description": "",
            "description_tooltip": null,
            "layout": "IPY_MODEL_dc437e159abc4f55bbba157cef578f49",
            "placeholder": "​",
            "style": "IPY_MODEL_0ed91f3190334865a58b450dbe62f462",
            "value": "Training Images: 950"
          }
        },
        "80bfab7f5bf6498e8877c6989d8b7048": {
          "model_module": "@jupyter-widgets/controls",
          "model_name": "IntProgressModel",
          "model_module_version": "1.5.0",
          "state": {
            "_dom_classes": [],
            "_model_module": "@jupyter-widgets/controls",
            "_model_module_version": "1.5.0",
            "_model_name": "IntProgressModel",
            "_view_count": null,
            "_view_module": "@jupyter-widgets/controls",
            "_view_module_version": "1.5.0",
            "_view_name": "ProgressView",
            "bar_style": "success",
            "description": "",
            "description_tooltip": null,
            "layout": "IPY_MODEL_276a5ab235d9451fb39dfa410dce168b",
            "max": 950,
            "min": 0,
            "orientation": "horizontal",
            "style": "IPY_MODEL_bb561f74aa9f4fb99db66099c26bff99",
            "value": 950
          }
        },
        "48ffdefeddc3442bb3df9e116bb443e6": {
          "model_module": "@jupyter-widgets/base",
          "model_name": "LayoutModel",
          "model_module_version": "1.2.0",
          "state": {
            "_model_module": "@jupyter-widgets/base",
            "_model_module_version": "1.2.0",
            "_model_name": "LayoutModel",
            "_view_count": null,
            "_view_module": "@jupyter-widgets/base",
            "_view_module_version": "1.2.0",
            "_view_name": "LayoutView",
            "align_content": null,
            "align_items": null,
            "align_self": null,
            "border": null,
            "bottom": null,
            "display": null,
            "flex": null,
            "flex_flow": null,
            "grid_area": null,
            "grid_auto_columns": null,
            "grid_auto_flow": null,
            "grid_auto_rows": null,
            "grid_column": null,
            "grid_gap": null,
            "grid_row": null,
            "grid_template_areas": null,
            "grid_template_columns": null,
            "grid_template_rows": null,
            "height": null,
            "justify_content": null,
            "justify_items": null,
            "left": null,
            "margin": null,
            "max_height": null,
            "max_width": null,
            "min_height": null,
            "min_width": null,
            "object_fit": null,
            "object_position": null,
            "order": null,
            "overflow": null,
            "overflow_x": null,
            "overflow_y": null,
            "padding": null,
            "right": null,
            "top": null,
            "visibility": null,
            "width": null
          }
        },
        "dc437e159abc4f55bbba157cef578f49": {
          "model_module": "@jupyter-widgets/base",
          "model_name": "LayoutModel",
          "model_module_version": "1.2.0",
          "state": {
            "_model_module": "@jupyter-widgets/base",
            "_model_module_version": "1.2.0",
            "_model_name": "LayoutModel",
            "_view_count": null,
            "_view_module": "@jupyter-widgets/base",
            "_view_module_version": "1.2.0",
            "_view_name": "LayoutView",
            "align_content": null,
            "align_items": null,
            "align_self": null,
            "border": null,
            "bottom": null,
            "display": null,
            "flex": null,
            "flex_flow": null,
            "grid_area": null,
            "grid_auto_columns": null,
            "grid_auto_flow": null,
            "grid_auto_rows": null,
            "grid_column": null,
            "grid_gap": null,
            "grid_row": null,
            "grid_template_areas": null,
            "grid_template_columns": null,
            "grid_template_rows": null,
            "height": null,
            "justify_content": null,
            "justify_items": null,
            "left": null,
            "margin": null,
            "max_height": null,
            "max_width": null,
            "min_height": null,
            "min_width": null,
            "object_fit": null,
            "object_position": null,
            "order": null,
            "overflow": null,
            "overflow_x": null,
            "overflow_y": null,
            "padding": null,
            "right": null,
            "top": null,
            "visibility": null,
            "width": null
          }
        },
        "0ed91f3190334865a58b450dbe62f462": {
          "model_module": "@jupyter-widgets/controls",
          "model_name": "DescriptionStyleModel",
          "model_module_version": "1.5.0",
          "state": {
            "_model_module": "@jupyter-widgets/controls",
            "_model_module_version": "1.5.0",
            "_model_name": "DescriptionStyleModel",
            "_view_count": null,
            "_view_module": "@jupyter-widgets/base",
            "_view_module_version": "1.2.0",
            "_view_name": "StyleView",
            "description_width": ""
          }
        },
        "276a5ab235d9451fb39dfa410dce168b": {
          "model_module": "@jupyter-widgets/base",
          "model_name": "LayoutModel",
          "model_module_version": "1.2.0",
          "state": {
            "_model_module": "@jupyter-widgets/base",
            "_model_module_version": "1.2.0",
            "_model_name": "LayoutModel",
            "_view_count": null,
            "_view_module": "@jupyter-widgets/base",
            "_view_module_version": "1.2.0",
            "_view_name": "LayoutView",
            "align_content": null,
            "align_items": null,
            "align_self": null,
            "border": null,
            "bottom": null,
            "display": null,
            "flex": null,
            "flex_flow": null,
            "grid_area": null,
            "grid_auto_columns": null,
            "grid_auto_flow": null,
            "grid_auto_rows": null,
            "grid_column": null,
            "grid_gap": null,
            "grid_row": null,
            "grid_template_areas": null,
            "grid_template_columns": null,
            "grid_template_rows": null,
            "height": null,
            "justify_content": null,
            "justify_items": null,
            "left": null,
            "margin": null,
            "max_height": null,
            "max_width": null,
            "min_height": null,
            "min_width": null,
            "object_fit": null,
            "object_position": null,
            "order": null,
            "overflow": null,
            "overflow_x": null,
            "overflow_y": null,
            "padding": null,
            "right": null,
            "top": null,
            "visibility": null,
            "width": null
          }
        },
        "bb561f74aa9f4fb99db66099c26bff99": {
          "model_module": "@jupyter-widgets/controls",
          "model_name": "ProgressStyleModel",
          "model_module_version": "1.5.0",
          "state": {
            "_model_module": "@jupyter-widgets/controls",
            "_model_module_version": "1.5.0",
            "_model_name": "ProgressStyleModel",
            "_view_count": null,
            "_view_module": "@jupyter-widgets/base",
            "_view_module_version": "1.2.0",
            "_view_name": "StyleView",
            "bar_color": null,
            "description_width": ""
          }
        },
        "56c418b6d7e94b41a8d00ad36d84b1ee": {
          "model_module": "@jupyter-widgets/controls",
          "model_name": "VBoxModel",
          "model_module_version": "1.5.0",
          "state": {
            "_dom_classes": [],
            "_model_module": "@jupyter-widgets/controls",
            "_model_module_version": "1.5.0",
            "_model_name": "VBoxModel",
            "_view_count": null,
            "_view_module": "@jupyter-widgets/controls",
            "_view_module_version": "1.5.0",
            "_view_name": "VBoxView",
            "box_style": "",
            "children": [
              "IPY_MODEL_b13218f9bda144dfafa25be95b3645d0",
              "IPY_MODEL_0597fac2b9d844e1a2a9700e2831d894"
            ],
            "layout": "IPY_MODEL_d29ebd1193c1401c8352866466ce28a7"
          }
        },
        "b13218f9bda144dfafa25be95b3645d0": {
          "model_module": "@jupyter-widgets/controls",
          "model_name": "HTMLModel",
          "model_module_version": "1.5.0",
          "state": {
            "_dom_classes": [],
            "_model_module": "@jupyter-widgets/controls",
            "_model_module_version": "1.5.0",
            "_model_name": "HTMLModel",
            "_view_count": null,
            "_view_module": "@jupyter-widgets/controls",
            "_view_module_version": "1.5.0",
            "_view_name": "HTMLView",
            "description": "",
            "description_tooltip": null,
            "layout": "IPY_MODEL_00361c0db98b44e591a83caf5d5dbd7a",
            "placeholder": "​",
            "style": "IPY_MODEL_8403afe8811c4207a5a76c0345efe58d",
            "value": "Validation Images: 12 / 950"
          }
        },
        "0597fac2b9d844e1a2a9700e2831d894": {
          "model_module": "@jupyter-widgets/controls",
          "model_name": "IntProgressModel",
          "model_module_version": "1.5.0",
          "state": {
            "_dom_classes": [],
            "_model_module": "@jupyter-widgets/controls",
            "_model_module_version": "1.5.0",
            "_model_name": "IntProgressModel",
            "_view_count": null,
            "_view_module": "@jupyter-widgets/controls",
            "_view_module_version": "1.5.0",
            "_view_name": "ProgressView",
            "bar_style": "",
            "description": "",
            "description_tooltip": null,
            "layout": "IPY_MODEL_890438bf14784b7097f7f7350f88a833",
            "max": 950,
            "min": 0,
            "orientation": "horizontal",
            "style": "IPY_MODEL_25ce11a04770499ca585011234af515a",
            "value": 12
          }
        },
        "d29ebd1193c1401c8352866466ce28a7": {
          "model_module": "@jupyter-widgets/base",
          "model_name": "LayoutModel",
          "model_module_version": "1.2.0",
          "state": {
            "_model_module": "@jupyter-widgets/base",
            "_model_module_version": "1.2.0",
            "_model_name": "LayoutModel",
            "_view_count": null,
            "_view_module": "@jupyter-widgets/base",
            "_view_module_version": "1.2.0",
            "_view_name": "LayoutView",
            "align_content": null,
            "align_items": null,
            "align_self": null,
            "border": null,
            "bottom": null,
            "display": null,
            "flex": null,
            "flex_flow": null,
            "grid_area": null,
            "grid_auto_columns": null,
            "grid_auto_flow": null,
            "grid_auto_rows": null,
            "grid_column": null,
            "grid_gap": null,
            "grid_row": null,
            "grid_template_areas": null,
            "grid_template_columns": null,
            "grid_template_rows": null,
            "height": null,
            "justify_content": null,
            "justify_items": null,
            "left": null,
            "margin": null,
            "max_height": null,
            "max_width": null,
            "min_height": null,
            "min_width": null,
            "object_fit": null,
            "object_position": null,
            "order": null,
            "overflow": null,
            "overflow_x": null,
            "overflow_y": null,
            "padding": null,
            "right": null,
            "top": null,
            "visibility": null,
            "width": null
          }
        },
        "00361c0db98b44e591a83caf5d5dbd7a": {
          "model_module": "@jupyter-widgets/base",
          "model_name": "LayoutModel",
          "model_module_version": "1.2.0",
          "state": {
            "_model_module": "@jupyter-widgets/base",
            "_model_module_version": "1.2.0",
            "_model_name": "LayoutModel",
            "_view_count": null,
            "_view_module": "@jupyter-widgets/base",
            "_view_module_version": "1.2.0",
            "_view_name": "LayoutView",
            "align_content": null,
            "align_items": null,
            "align_self": null,
            "border": null,
            "bottom": null,
            "display": null,
            "flex": null,
            "flex_flow": null,
            "grid_area": null,
            "grid_auto_columns": null,
            "grid_auto_flow": null,
            "grid_auto_rows": null,
            "grid_column": null,
            "grid_gap": null,
            "grid_row": null,
            "grid_template_areas": null,
            "grid_template_columns": null,
            "grid_template_rows": null,
            "height": null,
            "justify_content": null,
            "justify_items": null,
            "left": null,
            "margin": null,
            "max_height": null,
            "max_width": null,
            "min_height": null,
            "min_width": null,
            "object_fit": null,
            "object_position": null,
            "order": null,
            "overflow": null,
            "overflow_x": null,
            "overflow_y": null,
            "padding": null,
            "right": null,
            "top": null,
            "visibility": null,
            "width": null
          }
        },
        "8403afe8811c4207a5a76c0345efe58d": {
          "model_module": "@jupyter-widgets/controls",
          "model_name": "DescriptionStyleModel",
          "model_module_version": "1.5.0",
          "state": {
            "_model_module": "@jupyter-widgets/controls",
            "_model_module_version": "1.5.0",
            "_model_name": "DescriptionStyleModel",
            "_view_count": null,
            "_view_module": "@jupyter-widgets/base",
            "_view_module_version": "1.2.0",
            "_view_name": "StyleView",
            "description_width": ""
          }
        },
        "890438bf14784b7097f7f7350f88a833": {
          "model_module": "@jupyter-widgets/base",
          "model_name": "LayoutModel",
          "model_module_version": "1.2.0",
          "state": {
            "_model_module": "@jupyter-widgets/base",
            "_model_module_version": "1.2.0",
            "_model_name": "LayoutModel",
            "_view_count": null,
            "_view_module": "@jupyter-widgets/base",
            "_view_module_version": "1.2.0",
            "_view_name": "LayoutView",
            "align_content": null,
            "align_items": null,
            "align_self": null,
            "border": null,
            "bottom": null,
            "display": null,
            "flex": null,
            "flex_flow": null,
            "grid_area": null,
            "grid_auto_columns": null,
            "grid_auto_flow": null,
            "grid_auto_rows": null,
            "grid_column": null,
            "grid_gap": null,
            "grid_row": null,
            "grid_template_areas": null,
            "grid_template_columns": null,
            "grid_template_rows": null,
            "height": null,
            "justify_content": null,
            "justify_items": null,
            "left": null,
            "margin": null,
            "max_height": null,
            "max_width": null,
            "min_height": null,
            "min_width": null,
            "object_fit": null,
            "object_position": null,
            "order": null,
            "overflow": null,
            "overflow_x": null,
            "overflow_y": null,
            "padding": null,
            "right": null,
            "top": null,
            "visibility": null,
            "width": null
          }
        },
        "25ce11a04770499ca585011234af515a": {
          "model_module": "@jupyter-widgets/controls",
          "model_name": "ProgressStyleModel",
          "model_module_version": "1.5.0",
          "state": {
            "_model_module": "@jupyter-widgets/controls",
            "_model_module_version": "1.5.0",
            "_model_name": "ProgressStyleModel",
            "_view_count": null,
            "_view_module": "@jupyter-widgets/base",
            "_view_module_version": "1.2.0",
            "_view_name": "StyleView",
            "bar_color": null,
            "description_width": ""
          }
        }
      }
    }
  },
  "cells": [
    {
      "cell_type": "code",
      "metadata": {
        "id": "PkCKeRlRqwVL"
      },
      "source": [
        "import os\n",
        "import glob\n",
        "import shutil\n",
        "import numpy as np\n",
        "import pandas as pd\n",
        "from google.colab import drive"
      ],
      "execution_count": null,
      "outputs": []
    },
    {
      "cell_type": "code",
      "metadata": {
        "colab": {
          "base_uri": "https://localhost:8080/"
        },
        "id": "CmKsu5_7_F1e",
        "outputId": "e35e8fb7-cf63-4c2f-e25b-aa9370da8477"
      },
      "source": [
        "c=drive.mount('/content/drive')"
      ],
      "execution_count": null,
      "outputs": [
        {
          "name": "stdout",
          "output_type": "stream",
          "text": [
            "Drive already mounted at /content/drive; to attempt to forcibly remount, call drive.mount(\"/content/drive\", force_remount=True).\n"
          ]
        }
      ]
    },
    {
      "cell_type": "code",
      "metadata": {
        "id": "MmqTO2uUhhU5"
      },
      "source": [
        "np.random.seed(42)"
      ],
      "execution_count": null,
      "outputs": []
    },
    {
      "cell_type": "markdown",
      "metadata": {
        "id": "y4AVqs-7175y"
      },
      "source": [
        ""
      ]
    },
    {
      "cell_type": "code",
      "metadata": {
        "id": "18tE9Nmi_PxQ"
      },
      "source": [
        "TRAIN_CSV = 'drive/My Drive/development/dataset/aptos2019/train.csv'\n",
        "TRAIN_IMG = 'drive/My Drive/development/images/aptos2019/train_images/'\n",
        "TRAIN_EXE = '.png'\n",
        "\n",
        "TRAIN_DIR = 'drive/My Drive/development/colab/AIPlatform/multi_prototype/training_data'\n",
        "VAL_DIR = 'drive/My Drive/development/colab/AIPlatform/multi_prototype/validation_data'\n",
        "TEST_DIR = 'drive/My Drive/development/colab/AIPlatform/multi_prototype/test_data'"
      ],
      "execution_count": null,
      "outputs": []
    },
    {
      "cell_type": "code",
      "metadata": {
        "id": "XGV8MYg35oFW"
      },
      "source": [
        "def log_progress(sequence, every=None, size=None, name='Items'):\n",
        "    from ipywidgets import IntProgress, HTML, VBox\n",
        "    from IPython.display import display\n",
        "\n",
        "    is_iterator = False\n",
        "    if size is None:\n",
        "        try:\n",
        "            size = len(sequence)\n",
        "        except TypeError:\n",
        "            is_iterator = True\n",
        "    if size is not None:\n",
        "        if every is None:\n",
        "            if size <= 200:\n",
        "                every = 1\n",
        "            else:\n",
        "                every = int(size / 200)     # every 0.5%\n",
        "    else:\n",
        "        assert every is not None, 'sequence is iterator, set every'\n",
        "\n",
        "    if is_iterator:\n",
        "        progress = IntProgress(min=0, max=1, value=1)\n",
        "        progress.bar_style = 'info'\n",
        "    else:\n",
        "        progress = IntProgress(min=0, max=size, value=0)\n",
        "    label = HTML()\n",
        "    box = VBox(children=[label, progress])\n",
        "    display(box)\n",
        "\n",
        "    index = 0\n",
        "    try:\n",
        "        for index, record in enumerate(sequence, 1):\n",
        "            if index == 1 or index % every == 0:\n",
        "                if is_iterator:\n",
        "                    label.value = '{name}: {index} / ?'.format(\n",
        "                        name=name,\n",
        "                        index=index\n",
        "                    )\n",
        "                else:\n",
        "                    progress.value = index\n",
        "                    label.value = u'{name}: {index} / {size}'.format(\n",
        "                        name=name,\n",
        "                        index=index,\n",
        "                        size=size\n",
        "                    )\n",
        "            yield record\n",
        "    except:\n",
        "        progress.bar_style = 'danger'\n",
        "        raise\n",
        "    else:\n",
        "        progress.bar_style = 'success'\n",
        "        progress.value = index\n",
        "        label.value = \"{name}: {index}\".format(\n",
        "            name=name,\n",
        "            index=str(index or '?')\n",
        "        )"
      ],
      "execution_count": null,
      "outputs": []
    },
    {
      "cell_type": "code",
      "metadata": {
        "id": "n8gXN_C7rLBk"
      },
      "source": [
        "def extract_filename(dirs):\n",
        "  tmp = []\n",
        "  tmp = dirs.split('/')\n",
        "  \n",
        "  tmp2 = tmp[len(tmp)-1]\n",
        "  value = tmp2.split('.')[0].strip()\n",
        "\n",
        "  return value"
      ],
      "execution_count": null,
      "outputs": []
    },
    {
      "cell_type": "code",
      "metadata": {
        "id": "cSyuLb_f_CKb"
      },
      "source": [
        "def extract_csv(filename):\n",
        "\n",
        "  data = pd.read_csv(TRAIN_CSV, header=None)\n",
        "  result = data.loc[data.iloc[:,0].str.contains(filename, na=False)]\n",
        "  value = result.iloc[:, 0].values[0] + ':' + result.iloc[:, 1].values[0]\n",
        "  return value"
      ],
      "execution_count": null,
      "outputs": []
    },
    {
      "cell_type": "code",
      "metadata": {
        "colab": {
          "base_uri": "https://localhost:8080/"
        },
        "id": "wrQrLiA7_L7p",
        "outputId": "24766fdb-c940-45d5-ed29-ff5d47566d02"
      },
      "source": [
        "files = glob.glob(TRAIN_IMG+'*')\n",
        "\n",
        "print(len(files))"
      ],
      "execution_count": null,
      "outputs": [
        {
          "name": "stdout",
          "output_type": "stream",
          "text": [
            "3662\n"
          ]
        }
      ]
    },
    {
      "cell_type": "code",
      "metadata": {
        "colab": {
          "base_uri": "https://localhost:8080/"
        },
        "id": "LRV-tpBSOcSN",
        "outputId": "8352c09b-baf7-4dc6-ae41-7d05f4955497"
      },
      "source": [
        "nodr_files, mild_files, mode_files, seve_files, prol_files = [], [], [], [], []\n",
        "\n",
        "for i in files:\n",
        "  name = extract_csv(extract_filename(i)).split(':')[0].strip()\n",
        "  label = extract_csv(extract_filename(i)).split(':')[1].strip()\n",
        "\n",
        "  if label == '0':\n",
        "    nodr_files.append(TRAIN_IMG+name+TRAIN_EXE)\n",
        "  elif label == '1':\n",
        "    mild_files.append(TRAIN_IMG+name+TRAIN_EXE)\n",
        "  elif label == '2':\n",
        "    mode_files.append(TRAIN_IMG+name+TRAIN_EXE)\n",
        "  elif label == '3':\n",
        "    seve_files.append(TRAIN_IMG+name+TRAIN_EXE)\n",
        "  elif label == '4':\n",
        "    prol_files.append(TRAIN_IMG+name+TRAIN_EXE) \n",
        "\n",
        "print(len(nodr_files),len(mild_files),len(mode_files),len(seve_files),len(prol_files))\n",
        "print(len(nodr_files)+len(mild_files)+len(mode_files)+len(seve_files)+len(prol_files))\n",
        "print(prol_files)"
      ],
      "execution_count": null,
      "outputs": [
        {
          "name": "stdout",
          "output_type": "stream",
          "text": [
            "1805 370 999 193 295\n",
            "3662\n",
            "['drive/My Drive/development/images/aptos2019/train_images/b90bc89ce8d8.png', 'drive/My Drive/development/images/aptos2019/train_images/b99afe7137fb.png', 'drive/My Drive/development/images/aptos2019/train_images/b96b518596b3.png', 'drive/My Drive/development/images/aptos2019/train_images/ba08cee68c71.png', 'drive/My Drive/development/images/aptos2019/train_images/ba4d2c4b3039.png', 'drive/My Drive/development/images/aptos2019/train_images/ba735b286d62.png', 'drive/My Drive/development/images/aptos2019/train_images/bba38f2294a3.png', 'drive/My Drive/development/images/aptos2019/train_images/bc34ed91c9bc.png', 'drive/My Drive/development/images/aptos2019/train_images/bcd503c726ba.png', 'drive/My Drive/development/images/aptos2019/train_images/bd9904495ccd.png', 'drive/My Drive/development/images/aptos2019/train_images/bd5013540a13.png', 'drive/My Drive/development/images/aptos2019/train_images/bdff5d8bddf8.png', 'drive/My Drive/development/images/aptos2019/train_images/bfefa7344e7d.png', 'drive/My Drive/development/images/aptos2019/train_images/c01eae4b4939.png', 'drive/My Drive/development/images/aptos2019/train_images/bfdee9be1f1d.png', 'drive/My Drive/development/images/aptos2019/train_images/c0e509786f7f.png', 'drive/My Drive/development/images/aptos2019/train_images/c1799a6f5c65.png', 'drive/My Drive/development/images/aptos2019/train_images/c1896142a20a.png', 'drive/My Drive/development/images/aptos2019/train_images/c3d12a23f451.png', 'drive/My Drive/development/images/aptos2019/train_images/c6a145742708.png', 'drive/My Drive/development/images/aptos2019/train_images/c5e238aa18be.png', 'drive/My Drive/development/images/aptos2019/train_images/c62585bd68fb.png', 'drive/My Drive/development/images/aptos2019/train_images/c8d2d32f7f29.png', 'drive/My Drive/development/images/aptos2019/train_images/cb547e723a16.png', 'drive/My Drive/development/images/aptos2019/train_images/cc3d2e961768.png', 'drive/My Drive/development/images/aptos2019/train_images/cbd0870aa933.png', 'drive/My Drive/development/images/aptos2019/train_images/cd972e5639e0.png', 'drive/My Drive/development/images/aptos2019/train_images/cd93a472e5cd.png', 'drive/My Drive/development/images/aptos2019/train_images/cd54d022e37d.png', 'drive/My Drive/development/images/aptos2019/train_images/cf1b9d26d38d.png', 'drive/My Drive/development/images/aptos2019/train_images/d0b132d2c7ec.png', 'drive/My Drive/development/images/aptos2019/train_images/d10ef306996b.png', 'drive/My Drive/development/images/aptos2019/train_images/d1a24527a15d.png', 'drive/My Drive/development/images/aptos2019/train_images/d271d3a2b552.png', 'drive/My Drive/development/images/aptos2019/train_images/d2901144070c.png', 'drive/My Drive/development/images/aptos2019/train_images/d2c2f02bb313.png', 'drive/My Drive/development/images/aptos2019/train_images/d51b3fe0fa1b.png', 'drive/My Drive/development/images/aptos2019/train_images/d48178e4a49b.png', 'drive/My Drive/development/images/aptos2019/train_images/d659d7fd5ccf.png', 'drive/My Drive/development/images/aptos2019/train_images/d803598dabda.png', 'drive/My Drive/development/images/aptos2019/train_images/d85ea1220a03.png', 'drive/My Drive/development/images/aptos2019/train_images/d9ba044671e1.png', 'drive/My Drive/development/images/aptos2019/train_images/dad71ba27a9b.png', 'drive/My Drive/development/images/aptos2019/train_images/de16416220de.png', 'drive/My Drive/development/images/aptos2019/train_images/df4913ca3712.png', 'drive/My Drive/development/images/aptos2019/train_images/df4aec4a0eaf.png', 'drive/My Drive/development/images/aptos2019/train_images/e037643244b7.png', 'drive/My Drive/development/images/aptos2019/train_images/e019b3e0f33d.png', 'drive/My Drive/development/images/aptos2019/train_images/df84e7113003.png', 'drive/My Drive/development/images/aptos2019/train_images/e23add229074.png', 'drive/My Drive/development/images/aptos2019/train_images/e32dc722eca5.png', 'drive/My Drive/development/images/aptos2019/train_images/e39b627cf648.png', 'drive/My Drive/development/images/aptos2019/train_images/e3ec668f6fad.png', 'drive/My Drive/development/images/aptos2019/train_images/e3ab63dc9a60.png', 'drive/My Drive/development/images/aptos2019/train_images/e4730ddde408.png', 'drive/My Drive/development/images/aptos2019/train_images/e4f12411fd85.png', 'drive/My Drive/development/images/aptos2019/train_images/e62490b7d0e9.png', 'drive/My Drive/development/images/aptos2019/train_images/e740af6ac6ea.png', 'drive/My Drive/development/images/aptos2019/train_images/e7d2c2c3b30f.png', 'drive/My Drive/development/images/aptos2019/train_images/e821c1b6417a.png', 'drive/My Drive/development/images/aptos2019/train_images/e9ab8413e771.png', 'drive/My Drive/development/images/aptos2019/train_images/eaa0dfbd5024.png', 'drive/My Drive/development/images/aptos2019/train_images/eadc57064154.png', 'drive/My Drive/development/images/aptos2019/train_images/eb1d37b71fd1.png', 'drive/My Drive/development/images/aptos2019/train_images/ebe0175e530c.png', 'drive/My Drive/development/images/aptos2019/train_images/ed246ae1ed08.png', 'drive/My Drive/development/images/aptos2019/train_images/ed3a0fc5b546.png', 'drive/My Drive/development/images/aptos2019/train_images/ee1ec90b980f.png', 'drive/My Drive/development/images/aptos2019/train_images/ef26625121b3.png', 'drive/My Drive/development/images/aptos2019/train_images/f0098e9d4aee.png', 'drive/My Drive/development/images/aptos2019/train_images/f025f33b2c9b.png', 'drive/My Drive/development/images/aptos2019/train_images/f03d3c4ce7fb.png', 'drive/My Drive/development/images/aptos2019/train_images/f0f89314e860.png', 'drive/My Drive/development/images/aptos2019/train_images/f1dc26c4bfa3.png', 'drive/My Drive/development/images/aptos2019/train_images/f2d2a0c92034.png', 'drive/My Drive/development/images/aptos2019/train_images/f549294e12e1.png', 'drive/My Drive/development/images/aptos2019/train_images/f58d37d48e42.png', 'drive/My Drive/development/images/aptos2019/train_images/f5e6226bd2e0.png', 'drive/My Drive/development/images/aptos2019/train_images/f6f3ea0d2693.png', 'drive/My Drive/development/images/aptos2019/train_images/f69835dc7c50.png', 'drive/My Drive/development/images/aptos2019/train_images/f72adcac5638.png', 'drive/My Drive/development/images/aptos2019/train_images/f850cb51fdba.png', 'drive/My Drive/development/images/aptos2019/train_images/f8cf7ed8ef00.png', 'drive/My Drive/development/images/aptos2019/train_images/fa59221cf464.png', 'drive/My Drive/development/images/aptos2019/train_images/fb696a8e055a.png', 'drive/My Drive/development/images/aptos2019/train_images/fce93caa4758.png', 'drive/My Drive/development/images/aptos2019/train_images/fdd534271f3d.png', 'drive/My Drive/development/images/aptos2019/train_images/ff8a0b45c789.png', 'drive/My Drive/development/images/aptos2019/train_images/785777558f05.png', 'drive/My Drive/development/images/aptos2019/train_images/78b3f819dcc5.png', 'drive/My Drive/development/images/aptos2019/train_images/789434d095d1.png', 'drive/My Drive/development/images/aptos2019/train_images/7a238a1d3cf3.png', 'drive/My Drive/development/images/aptos2019/train_images/79d44db3da2d.png', 'drive/My Drive/development/images/aptos2019/train_images/7b211d8bd249.png', 'drive/My Drive/development/images/aptos2019/train_images/7bc4dd99eee5.png', 'drive/My Drive/development/images/aptos2019/train_images/7c90ab025331.png', 'drive/My Drive/development/images/aptos2019/train_images/7c629b491d1a.png', 'drive/My Drive/development/images/aptos2019/train_images/7cc4b7aabe04.png', 'drive/My Drive/development/images/aptos2019/train_images/7d626a7ffe76.png', 'drive/My Drive/development/images/aptos2019/train_images/7e4019ac7f5a.png', 'drive/My Drive/development/images/aptos2019/train_images/7e0598cc88a0.png', 'drive/My Drive/development/images/aptos2019/train_images/7efc91af4ae6.png', 'drive/My Drive/development/images/aptos2019/train_images/80964d8e0863.png', 'drive/My Drive/development/images/aptos2019/train_images/82bb8a01935f.png', 'drive/My Drive/development/images/aptos2019/train_images/838c87c63422.png', 'drive/My Drive/development/images/aptos2019/train_images/84c663f39632.png', 'drive/My Drive/development/images/aptos2019/train_images/85cbb84ac8e0.png', 'drive/My Drive/development/images/aptos2019/train_images/857230f64a2e.png', 'drive/My Drive/development/images/aptos2019/train_images/8596a24a14bd.png', 'drive/My Drive/development/images/aptos2019/train_images/873dcc0b468f.png', 'drive/My Drive/development/images/aptos2019/train_images/87774aafe068.png', 'drive/My Drive/development/images/aptos2019/train_images/8785b71238d8.png', 'drive/My Drive/development/images/aptos2019/train_images/875a2fc5fe23.png', 'drive/My Drive/development/images/aptos2019/train_images/887c26fc0e1f.png', 'drive/My Drive/development/images/aptos2019/train_images/8ae049175db6.png', 'drive/My Drive/development/images/aptos2019/train_images/8ac0c44bbf24.png', 'drive/My Drive/development/images/aptos2019/train_images/8af6a4e5396f.png', 'drive/My Drive/development/images/aptos2019/train_images/8bad12d70368.png', 'drive/My Drive/development/images/aptos2019/train_images/8c7c26c52a6c.png', 'drive/My Drive/development/images/aptos2019/train_images/8bed09514c3b.png', 'drive/My Drive/development/images/aptos2019/train_images/8db2ce991101.png', 'drive/My Drive/development/images/aptos2019/train_images/8d8aca52c07b.png', 'drive/My Drive/development/images/aptos2019/train_images/8eeac97f02f0.png', 'drive/My Drive/development/images/aptos2019/train_images/8fd7ad26e691.png', 'drive/My Drive/development/images/aptos2019/train_images/8f318a978844.png', 'drive/My Drive/development/images/aptos2019/train_images/905cc86bf100.png', 'drive/My Drive/development/images/aptos2019/train_images/94ef1d14597f.png', 'drive/My Drive/development/images/aptos2019/train_images/95e732e043a1.png', 'drive/My Drive/development/images/aptos2019/train_images/97da093947e8.png', 'drive/My Drive/development/images/aptos2019/train_images/9859e2a6cc24.png', 'drive/My Drive/development/images/aptos2019/train_images/9a496b1e20f9.png', 'drive/My Drive/development/images/aptos2019/train_images/9cc6b1f9bcbd.png', 'drive/My Drive/development/images/aptos2019/train_images/9c72ed6befa0.png', 'drive/My Drive/development/images/aptos2019/train_images/9e3510963315.png', 'drive/My Drive/development/images/aptos2019/train_images/9fab29e69a6b.png', 'drive/My Drive/development/images/aptos2019/train_images/a0cd7bffdaa0.png', 'drive/My Drive/development/images/aptos2019/train_images/a11bf2edd470.png', 'drive/My Drive/development/images/aptos2019/train_images/a182b5b191de.png', 'drive/My Drive/development/images/aptos2019/train_images/a2ddabee14e9.png', 'drive/My Drive/development/images/aptos2019/train_images/a32b5ce3d48a.png', 'drive/My Drive/development/images/aptos2019/train_images/a3fcf42ff56d.png', 'drive/My Drive/development/images/aptos2019/train_images/a5c9a8c726b2.png', 'drive/My Drive/development/images/aptos2019/train_images/a6d45de20e4d.png', 'drive/My Drive/development/images/aptos2019/train_images/a76b69e443ce.png', 'drive/My Drive/development/images/aptos2019/train_images/a81b06f50612.png', 'drive/My Drive/development/images/aptos2019/train_images/aa6673241154.png', 'drive/My Drive/development/images/aptos2019/train_images/ab1c20a94f3f.png', 'drive/My Drive/development/images/aptos2019/train_images/aeed1f251ceb.png', 'drive/My Drive/development/images/aptos2019/train_images/b1b3e7d0a5f3.png', 'drive/My Drive/development/images/aptos2019/train_images/b37aae3c8fe1.png', 'drive/My Drive/development/images/aptos2019/train_images/b3819a805dca.png', 'drive/My Drive/development/images/aptos2019/train_images/b55d2ddb3e75.png', 'drive/My Drive/development/images/aptos2019/train_images/b49b2fac2514.png', 'drive/My Drive/development/images/aptos2019/train_images/b70cb31b9abb.png', 'drive/My Drive/development/images/aptos2019/train_images/b77b8a1f09f1.png', 'drive/My Drive/development/images/aptos2019/train_images/b87f9c59748b.png', 'drive/My Drive/development/images/aptos2019/train_images/2f284b6a1940.png', 'drive/My Drive/development/images/aptos2019/train_images/2fde69f20585.png', 'drive/My Drive/development/images/aptos2019/train_images/2fe06bedb2c4.png', 'drive/My Drive/development/images/aptos2019/train_images/312694ea8e6a.png', 'drive/My Drive/development/images/aptos2019/train_images/3206171db5be.png', 'drive/My Drive/development/images/aptos2019/train_images/3796af4d987a.png', 'drive/My Drive/development/images/aptos2019/train_images/374535e0adb8.png', 'drive/My Drive/development/images/aptos2019/train_images/37c4dfe03aba.png', 'drive/My Drive/development/images/aptos2019/train_images/378963f9df22.png', 'drive/My Drive/development/images/aptos2019/train_images/3810040096cb.png', 'drive/My Drive/development/images/aptos2019/train_images/3a6e9730b298.png', 'drive/My Drive/development/images/aptos2019/train_images/3ac3fbfca7d4.png', 'drive/My Drive/development/images/aptos2019/train_images/3a1ecf5e2839.png', 'drive/My Drive/development/images/aptos2019/train_images/3b4a5fcbe5e0.png', 'drive/My Drive/development/images/aptos2019/train_images/3b185ac445d0.png', 'drive/My Drive/development/images/aptos2019/train_images/3b232b394e4f.png', 'drive/My Drive/development/images/aptos2019/train_images/3ca637fddd56.png', 'drive/My Drive/development/images/aptos2019/train_images/3ccf96c1dd6d.png', 'drive/My Drive/development/images/aptos2019/train_images/3c78bfca247b.png', 'drive/My Drive/development/images/aptos2019/train_images/3ee4841936ef.png', 'drive/My Drive/development/images/aptos2019/train_images/3f752fcccec0.png', 'drive/My Drive/development/images/aptos2019/train_images/408ea9d5e082.png', 'drive/My Drive/development/images/aptos2019/train_images/4462fba1d2a1.png', 'drive/My Drive/development/images/aptos2019/train_images/44ecf3f4efa5.png', 'drive/My Drive/development/images/aptos2019/train_images/4689b739d240.png', 'drive/My Drive/development/images/aptos2019/train_images/46d3316c4857.png', 'drive/My Drive/development/images/aptos2019/train_images/46cdc8b685bd.png', 'drive/My Drive/development/images/aptos2019/train_images/4a3da369b227.png', 'drive/My Drive/development/images/aptos2019/train_images/499c8df39222.png', 'drive/My Drive/development/images/aptos2019/train_images/4abca30b676b.png', 'drive/My Drive/development/images/aptos2019/train_images/4a693dd3921a.png', 'drive/My Drive/development/images/aptos2019/train_images/4a7dc013e802.png', 'drive/My Drive/development/images/aptos2019/train_images/4bd941611343.png', 'drive/My Drive/development/images/aptos2019/train_images/4ccfa0b4e96c.png', 'drive/My Drive/development/images/aptos2019/train_images/4dc2211a1c31.png', 'drive/My Drive/development/images/aptos2019/train_images/4dd71fc7f22b.png', 'drive/My Drive/development/images/aptos2019/train_images/518e880613de.png', 'drive/My Drive/development/images/aptos2019/train_images/51a1d162e223.png', 'drive/My Drive/development/images/aptos2019/train_images/51af8c112682.png', 'drive/My Drive/development/images/aptos2019/train_images/55eb405ec71e.png', 'drive/My Drive/development/images/aptos2019/train_images/576e189d23d4.png', 'drive/My Drive/development/images/aptos2019/train_images/58b866484a05.png', 'drive/My Drive/development/images/aptos2019/train_images/59fee5bc3479.png', 'drive/My Drive/development/images/aptos2019/train_images/5b76117c4bcb.png', 'drive/My Drive/development/images/aptos2019/train_images/5b5b80a3edee.png', 'drive/My Drive/development/images/aptos2019/train_images/5bda2ed09e62.png', 'drive/My Drive/development/images/aptos2019/train_images/5c7ab966a3ee.png', 'drive/My Drive/development/images/aptos2019/train_images/5d74f98d62be.png', 'drive/My Drive/development/images/aptos2019/train_images/5dd2e26fc244.png', 'drive/My Drive/development/images/aptos2019/train_images/5e7db41b3bee.png', 'drive/My Drive/development/images/aptos2019/train_images/6194e0fff071.png', 'drive/My Drive/development/images/aptos2019/train_images/613028ede6a0.png', 'drive/My Drive/development/images/aptos2019/train_images/60f15dd68d30.png', 'drive/My Drive/development/images/aptos2019/train_images/612f2df37a1d.png', 'drive/My Drive/development/images/aptos2019/train_images/61bbc11fe503.png', 'drive/My Drive/development/images/aptos2019/train_images/61f403fdb434.png', 'drive/My Drive/development/images/aptos2019/train_images/61e301bd3c25.png', 'drive/My Drive/development/images/aptos2019/train_images/62318d514160.png', 'drive/My Drive/development/images/aptos2019/train_images/63b4d030b016.png', 'drive/My Drive/development/images/aptos2019/train_images/64fedbf97473.png', 'drive/My Drive/development/images/aptos2019/train_images/64bad93fde3f.png', 'drive/My Drive/development/images/aptos2019/train_images/65c958379680.png', 'drive/My Drive/development/images/aptos2019/train_images/65e120143825.png', 'drive/My Drive/development/images/aptos2019/train_images/6630f8675a97.png', 'drive/My Drive/development/images/aptos2019/train_images/66375b3c64db.png', 'drive/My Drive/development/images/aptos2019/train_images/664b1f9a2087.png', 'drive/My Drive/development/images/aptos2019/train_images/66a0bf258013.png', 'drive/My Drive/development/images/aptos2019/train_images/69fff98cb32a.png', 'drive/My Drive/development/images/aptos2019/train_images/6c250a30593b.png', 'drive/My Drive/development/images/aptos2019/train_images/6c3745a222da.png', 'drive/My Drive/development/images/aptos2019/train_images/6cd606dc52e9.png', 'drive/My Drive/development/images/aptos2019/train_images/6cfb7b44ef6f.png', 'drive/My Drive/development/images/aptos2019/train_images/6d259b5b4c76.png', 'drive/My Drive/development/images/aptos2019/train_images/6daef3e5ca22.png', 'drive/My Drive/development/images/aptos2019/train_images/6d7d26025122.png', 'drive/My Drive/development/images/aptos2019/train_images/6f4719c6bb4b.png', 'drive/My Drive/development/images/aptos2019/train_images/6e73acb2cf60.png', 'drive/My Drive/development/images/aptos2019/train_images/6fe67482bfae.png', 'drive/My Drive/development/images/aptos2019/train_images/6f923b60934b.png', 'drive/My Drive/development/images/aptos2019/train_images/70d657f8f503.png', 'drive/My Drive/development/images/aptos2019/train_images/702de9dcde32.png', 'drive/My Drive/development/images/aptos2019/train_images/710b05a96e0f.png', 'drive/My Drive/development/images/aptos2019/train_images/7270367410a1.png', 'drive/My Drive/development/images/aptos2019/train_images/72d98188648f.png', 'drive/My Drive/development/images/aptos2019/train_images/753b14c27c83.png', 'drive/My Drive/development/images/aptos2019/train_images/001639a390f0.png', 'drive/My Drive/development/images/aptos2019/train_images/0083ee8054ee.png', 'drive/My Drive/development/images/aptos2019/train_images/02685f13cefd.png', 'drive/My Drive/development/images/aptos2019/train_images/0243404e8a00.png', 'drive/My Drive/development/images/aptos2019/train_images/02dda30d3acf.png', 'drive/My Drive/development/images/aptos2019/train_images/0318598cfd16.png', 'drive/My Drive/development/images/aptos2019/train_images/034cb07a550f.png', 'drive/My Drive/development/images/aptos2019/train_images/03a7f4a5786f.png', 'drive/My Drive/development/images/aptos2019/train_images/07122e268a1d.png', 'drive/My Drive/development/images/aptos2019/train_images/08a3875063c3.png', 'drive/My Drive/development/images/aptos2019/train_images/080ee76c958c.png', 'drive/My Drive/development/images/aptos2019/train_images/080f66eedfb9.png', 'drive/My Drive/development/images/aptos2019/train_images/0981195eb9fb.png', 'drive/My Drive/development/images/aptos2019/train_images/0ada12c0e78f.png', 'drive/My Drive/development/images/aptos2019/train_images/0bf37ca3156a.png', 'drive/My Drive/development/images/aptos2019/train_images/0ceb222f6629.png', 'drive/My Drive/development/images/aptos2019/train_images/0e0fc1d9810c.png', 'drive/My Drive/development/images/aptos2019/train_images/0e82bcacc475.png', 'drive/My Drive/development/images/aptos2019/train_images/10fca1abf338.png', 'drive/My Drive/development/images/aptos2019/train_images/11242a67122d.png', 'drive/My Drive/development/images/aptos2019/train_images/15e96e848b46.png', 'drive/My Drive/development/images/aptos2019/train_images/165cd2070ebd.png', 'drive/My Drive/development/images/aptos2019/train_images/1638404f385c.png', 'drive/My Drive/development/images/aptos2019/train_images/16ce555748d8.png', 'drive/My Drive/development/images/aptos2019/train_images/187f6ccda87a.png', 'drive/My Drive/development/images/aptos2019/train_images/19ef4d292196.png', 'drive/My Drive/development/images/aptos2019/train_images/1a7e3356b39c.png', 'drive/My Drive/development/images/aptos2019/train_images/1a90fad9ffa2.png', 'drive/My Drive/development/images/aptos2019/train_images/1b32e1d775ea.png', 'drive/My Drive/development/images/aptos2019/train_images/1bf30c84bbad.png', 'drive/My Drive/development/images/aptos2019/train_images/1c4f3aa4df06.png', 'drive/My Drive/development/images/aptos2019/train_images/1efa5d443707.png', 'drive/My Drive/development/images/aptos2019/train_images/1e9224ccca95.png', 'drive/My Drive/development/images/aptos2019/train_images/1fd5d860d4d7.png', 'drive/My Drive/development/images/aptos2019/train_images/20d5fdd450ae.png', 'drive/My Drive/development/images/aptos2019/train_images/2017cd92c63d.png', 'drive/My Drive/development/images/aptos2019/train_images/211518c46162.png', 'drive/My Drive/development/images/aptos2019/train_images/21abd36095a1.png', 'drive/My Drive/development/images/aptos2019/train_images/21d18b022429.png', 'drive/My Drive/development/images/aptos2019/train_images/222f3ee3a1e8.png', 'drive/My Drive/development/images/aptos2019/train_images/22895c89792f.png', 'drive/My Drive/development/images/aptos2019/train_images/247ac63e5510.png', 'drive/My Drive/development/images/aptos2019/train_images/247e98aba610.png', 'drive/My Drive/development/images/aptos2019/train_images/254052cf3e48.png', 'drive/My Drive/development/images/aptos2019/train_images/25d069089c5e.png', 'drive/My Drive/development/images/aptos2019/train_images/26463a5fb949.png', 'drive/My Drive/development/images/aptos2019/train_images/2628305cbb29.png', 'drive/My Drive/development/images/aptos2019/train_images/262ad704319c.png', 'drive/My Drive/development/images/aptos2019/train_images/27e2be850a99.png', 'drive/My Drive/development/images/aptos2019/train_images/281d7b7c7676.png', 'drive/My Drive/development/images/aptos2019/train_images/29bc0e721cfe.png', 'drive/My Drive/development/images/aptos2019/train_images/2bbcfdc477db.png', 'drive/My Drive/development/images/aptos2019/train_images/2df07eb5779f.png', 'drive/My Drive/development/images/aptos2019/train_images/2f7789c1e046.png']\n"
          ]
        }
      ]
    },
    {
      "cell_type": "code",
      "metadata": {
        "colab": {
          "base_uri": "https://localhost:8080/"
        },
        "id": "85_ZKCYlSm-F",
        "outputId": "aa5b624b-7f5b-42b3-db4e-d9413bfc23f2"
      },
      "source": [
        "#100개 이상 생성 에러 발생\n",
        "nodr_train = np.random.choice(nodr_files, size=190, replace=True)\n",
        "mild_train = np.random.choice(mild_files, size=190, replace=True)\n",
        "mode_train = np.random.choice(mode_files, size=190, replace=True)\n",
        "seve_train = np.random.choice(seve_files, size=190, replace=True)\n",
        "prol_train = np.random.choice(prol_files, size=190, replace=True)\n",
        "\n",
        "nodr_files = list(set(nodr_files) - set(nodr_train))\n",
        "mild_files = list(set(mild_files) - set(mild_train))\n",
        "mode_files = list(set(mode_files) - set(mode_train))\n",
        "seve_files = list(set(seve_files) - set(seve_train))\n",
        "prol_files = list(set(prol_files) - set(prol_train))\n",
        "\n",
        "nodr_val = np.random.choice(nodr_files, size=190, replace=True)\n",
        "mild_val = np.random.choice(mild_files, size=190, replace=True)\n",
        "mode_val = np.random.choice(mode_files, size=190, replace=True)\n",
        "seve_val = np.random.choice(seve_files, size=190, replace=True)\n",
        "prol_val = np.random.choice(prol_files, size=190, replace=True)\n",
        "\n",
        "nodr_files = list(set(nodr_files) - set(nodr_val))\n",
        "mild_files = list(set(mild_files) - set(mild_val))\n",
        "mode_files = list(set(mode_files) - set(mode_val))\n",
        "seve_files = list(set(seve_files) - set(seve_val))\n",
        "prol_files = list(set(prol_files) - set(prol_val))\n",
        "\n",
        "nodr_test = np.random.choice(nodr_files, size=190, replace=True)\n",
        "mild_test = np.random.choice(mild_files, size=190, replace=True)\n",
        "mode_test = np.random.choice(mode_files, size=190, replace=True)\n",
        "seve_test = np.random.choice(seve_files, size=190, replace=True)\n",
        "prol_test = np.random.choice(prol_files, size=190, replace=True)\n",
        "\n",
        "print('No DR datasets:', nodr_train.shape, nodr_val.shape, nodr_test.shape)\n",
        "print('Mild datasets:', mild_train.shape, mild_val.shape, mild_test.shape)\n",
        "print('Moderate datasets:', mode_train.shape, mode_val.shape, mode_test.shape)\n",
        "print('Severe datasets:', seve_train.shape, seve_val.shape, seve_test.shape)\n",
        "print('Proliferative datasets:', prol_train.shape, prol_val.shape, prol_test.shape)"
      ],
      "execution_count": null,
      "outputs": [
        {
          "name": "stdout",
          "output_type": "stream",
          "text": [
            "No DR datasets: (190,) (190,) (190,)\n",
            "Mild datasets: (190,) (190,) (190,)\n",
            "Moderate datasets: (190,) (190,) (190,)\n",
            "Severe datasets: (190,) (190,) (190,)\n",
            "Proliferative datasets: (190,) (190,) (190,)\n"
          ]
        }
      ]
    },
    {
      "cell_type": "code",
      "metadata": {
        "colab": {
          "background_save": true,
          "base_uri": "https://localhost:8080/",
          "height": 145,
          "referenced_widgets": [
            "7a02c63932cf42dca6b754614a20021c",
            "f9e46547c41f42e1ac6c099b156c9a65",
            "80bfab7f5bf6498e8877c6989d8b7048",
            "48ffdefeddc3442bb3df9e116bb443e6",
            "dc437e159abc4f55bbba157cef578f49",
            "0ed91f3190334865a58b450dbe62f462",
            "276a5ab235d9451fb39dfa410dce168b",
            "bb561f74aa9f4fb99db66099c26bff99",
            "56c418b6d7e94b41a8d00ad36d84b1ee",
            "b13218f9bda144dfafa25be95b3645d0",
            "0597fac2b9d844e1a2a9700e2831d894",
            "d29ebd1193c1401c8352866466ce28a7",
            "00361c0db98b44e591a83caf5d5dbd7a",
            "8403afe8811c4207a5a76c0345efe58d",
            "890438bf14784b7097f7f7350f88a833",
            "25ce11a04770499ca585011234af515a",
            "dc8995b92efe4980aa0b756a980224d1"
          ]
        },
        "id": "03qvZkMzdVCE",
        "outputId": "476883c4-39f8-46c2-ec57-624f7cbce494"
      },
      "source": [
        "train_files = np.concatenate([nodr_train, mild_train, mode_train, seve_train, prol_train])\n",
        "validate_files = np.concatenate([nodr_val, mild_val, mode_val, seve_val, prol_val])\n",
        "test_files = np.concatenate([nodr_train, mild_train, mode_train, seve_train, prol_train])\n",
        "\n",
        "os.mkdir(TRAIN_DIR) if not os.path.isdir(TRAIN_DIR) else None\n",
        "os.mkdir(VAL_DIR) if not os.path.isdir(VAL_DIR) else None\n",
        "os.mkdir(TEST_DIR) if not os.path.isdir(TEST_DIR) else None\n",
        "\n",
        "for fn in log_progress(train_files, name='Training Images'):\n",
        "    shutil.copy(fn, TRAIN_DIR)\n",
        "\n",
        "for fn in log_progress(validate_files, name='Validation Images'):\n",
        "    shutil.copy(fn, VAL_DIR)\n",
        "    \n",
        "for fn in log_progress(test_files, name='Test Images'):\n",
        "    shutil.copy(fn, TEST_DIR)"
      ],
      "execution_count": null,
      "outputs": [
        {
          "data": {
            "application/vnd.jupyter.widget-view+json": {
              "model_id": "7a02c63932cf42dca6b754614a20021c",
              "version_major": 2,
              "version_minor": 0
            },
            "text/plain": [
              "VBox(children=(HTML(value=''), IntProgress(value=0, max=950)))"
            ]
          },
          "metadata": {},
          "output_type": "display_data"
        },
        {
          "data": {
            "application/vnd.jupyter.widget-view+json": {
              "model_id": "56c418b6d7e94b41a8d00ad36d84b1ee",
              "version_major": 2,
              "version_minor": 0
            },
            "text/plain": [
              "VBox(children=(HTML(value=''), IntProgress(value=0, max=950)))"
            ]
          },
          "metadata": {},
          "output_type": "display_data"
        },
        {
          "data": {
            "application/vnd.jupyter.widget-view+json": {
              "model_id": "dc8995b92efe4980aa0b756a980224d1",
              "version_major": 2,
              "version_minor": 0
            },
            "text/plain": [
              "VBox(children=(HTML(value=''), IntProgress(value=0, max=950)))"
            ]
          },
          "metadata": {},
          "output_type": "display_data"
        }
      ]
    },
    {
      "cell_type": "code",
      "metadata": {
        "id": "lv8dnJtF5quS"
      },
      "source": [
        ""
      ],
      "execution_count": null,
      "outputs": []
    }
  ]
}